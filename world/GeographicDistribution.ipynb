{
 "cells": [
  {
   "cell_type": "markdown",
   "metadata": {},
   "source": [
    "### Geographic Data Generator"
   ]
  },
  {
   "cell_type": "code",
   "execution_count": 1,
   "metadata": {},
   "outputs": [],
   "source": [
    "import json as json\n",
    "import numpy as np\n",
    "import random as random\n",
    "import pandas as pd\n",
    "import matplotlib.pyplot as plt\n",
    "import seaborn as sns\n",
    "sns.set()"
   ]
  },
  {
   "cell_type": "markdown",
   "metadata": {},
   "source": [
    "#### Cities"
   ]
  },
  {
   "cell_type": "code",
   "execution_count": 10,
   "metadata": {},
   "outputs": [],
   "source": [
    "with open(\"cities.json\", 'r') as fw:\n",
    "    cities = json.load(fw)"
   ]
  },
  {
   "cell_type": "code",
   "execution_count": 33,
   "metadata": {},
   "outputs": [
    {
     "data": {
      "text/plain": [
       "['Pokhara',\n",
       " 'KATHMANDU',\n",
       " 'Lalitpur',\n",
       " 'Bharatpur',\n",
       " 'Dhangadhi',\n",
       " 'Birgunj',\n",
       " 'Butwal',\n",
       " 'Biratnagar',\n",
       " 'Dharan',\n",
       " 'Bhimdutta']"
      ]
     },
     "execution_count": 33,
     "metadata": {},
     "output_type": "execute_result"
    }
   ],
   "source": [
    "cities['Nepal']"
   ]
  },
  {
   "cell_type": "markdown",
   "metadata": {},
   "source": [
    "#### Lat-Long"
   ]
  },
  {
   "cell_type": "code",
   "execution_count": 17,
   "metadata": {},
   "outputs": [],
   "source": [
    "with open(\"countries_lat_long.json\", 'r') as fw:\n",
    "    latlong = json.load(fw)"
   ]
  },
  {
   "cell_type": "code",
   "execution_count": 32,
   "metadata": {},
   "outputs": [
    {
     "data": {
      "text/plain": [
       "[{'sym': 'AD', 'name': 'Andorra', 'lat': '42.546245', 'lon': '1.601554'},\n",
       " {'sym': 'AE',\n",
       "  'name': 'United-Arab-Emirates',\n",
       "  'lat': '23.424076',\n",
       "  'lon': '53.847818'},\n",
       " {'sym': 'AF', 'name': 'Afghanistan', 'lat': '33.93911', 'lon': '67.709953'},\n",
       " {'sym': 'AG',\n",
       "  'name': 'Antigua-and-Barbuda',\n",
       "  'lat': '17.060816',\n",
       "  'lon': '-61.796428'},\n",
       " {'sym': 'AI', 'name': 'Anguilla', 'lat': '18.220554', 'lon': '-63.068615'}]"
      ]
     },
     "execution_count": 32,
     "metadata": {},
     "output_type": "execute_result"
    }
   ],
   "source": [
    "latlong[0:5]"
   ]
  },
  {
   "cell_type": "markdown",
   "metadata": {},
   "source": [
    "#### Countries-cities-lat-long"
   ]
  },
  {
   "cell_type": "code",
   "execution_count": 30,
   "metadata": {},
   "outputs": [],
   "source": [
    "Data = []\n",
    "for item in latlong:\n",
    "    country = item['name']\n",
    "    ID = item['sym']\n",
    "    lat = itm['lat']\n",
    "    lon = itm['lon']\n",
    "    \n",
    "    if country in cities.keys():\n",
    "        ctz = cities[country]\n",
    "    else:\n",
    "        ctz : \"NA\"\n",
    "            \n",
    "    Data.append({'name': country, \\\n",
    "                 \"cities\":ctz,\\\n",
    "                 \"lat\": lat,\\\n",
    "                 \"lon\":lon,\\\n",
    "                  'ID': ID})    \n",
    "    "
   ]
  },
  {
   "cell_type": "code",
   "execution_count": 34,
   "metadata": {},
   "outputs": [
    {
     "data": {
      "text/plain": [
       "[{'name': 'Andorra',\n",
       "  'cities': ['ANDORRA LA VELLA'],\n",
       "  'lat': '-19.015438',\n",
       "  'lon': '29.154857',\n",
       "  'ID': 'AD'},\n",
       " {'name': 'United-Arab-Emirates',\n",
       "  'cities': ['ANDORRA LA VELLA'],\n",
       "  'lat': '-19.015438',\n",
       "  'lon': '29.154857',\n",
       "  'ID': 'AE'},\n",
       " {'name': 'Afghanistan',\n",
       "  'cities': ['ANDORRA LA VELLA'],\n",
       "  'lat': '-19.015438',\n",
       "  'lon': '29.154857',\n",
       "  'ID': 'AF'},\n",
       " {'name': 'Antigua-and-Barbuda',\n",
       "  'cities': ['ANDORRA LA VELLA'],\n",
       "  'lat': '-19.015438',\n",
       "  'lon': '29.154857',\n",
       "  'ID': 'AG'},\n",
       " {'name': 'Anguilla',\n",
       "  'cities': ['THE VALLEY'],\n",
       "  'lat': '-19.015438',\n",
       "  'lon': '29.154857',\n",
       "  'ID': 'AI'}]"
      ]
     },
     "execution_count": 34,
     "metadata": {},
     "output_type": "execute_result"
    }
   ],
   "source": [
    "Data[0:5]"
   ]
  },
  {
   "cell_type": "code",
   "execution_count": 36,
   "metadata": {},
   "outputs": [],
   "source": [
    "with open(\"world.json\", 'w')as fw:\n",
    "    json.dump(Data,fw)"
   ]
  },
  {
   "cell_type": "markdown",
   "metadata": {},
   "source": [
    "------"
   ]
  }
 ],
 "metadata": {
  "kernelspec": {
   "display_name": "Python 3",
   "language": "python",
   "name": "python3"
  },
  "language_info": {
   "codemirror_mode": {
    "name": "ipython",
    "version": 3
   },
   "file_extension": ".py",
   "mimetype": "text/x-python",
   "name": "python",
   "nbconvert_exporter": "python",
   "pygments_lexer": "ipython3",
   "version": "3.6.4"
  }
 },
 "nbformat": 4,
 "nbformat_minor": 2
}
