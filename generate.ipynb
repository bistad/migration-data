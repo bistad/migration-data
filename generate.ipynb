{
 "cells": [
  {
   "cell_type": "markdown",
   "metadata": {},
   "source": [
    "## A Random Person"
   ]
  },
  {
   "cell_type": "code",
   "execution_count": 21,
   "metadata": {},
   "outputs": [],
   "source": [
    "import json as json\n",
    "import random as random\n",
    "import pandas as pd\n",
    "import matplotlib.pyplot as plt\n",
    "import seaborn as sns\n",
    "sns.set()"
   ]
  },
  {
   "cell_type": "code",
   "execution_count": 22,
   "metadata": {},
   "outputs": [],
   "source": [
    "from generator.person import *"
   ]
  },
  {
   "cell_type": "code",
   "execution_count": 23,
   "metadata": {},
   "outputs": [],
   "source": [
    "with open(\"data/world/world.json\", 'r') as f1:\n",
    "    world = json.load(f1)"
   ]
  },
  {
   "cell_type": "code",
   "execution_count": 24,
   "metadata": {},
   "outputs": [],
   "source": [
    "with open(\"data/nepal/NepalG.json\", 'r') as f2:\n",
    "    nepal = json.load(f2)"
   ]
  },
  {
   "cell_type": "code",
   "execution_count": 25,
   "metadata": {},
   "outputs": [],
   "source": [
    "with open(\"data/professions/profession.json\", 'r') as f3:\n",
    "    prof = json.load(f3)"
   ]
  },
  {
   "cell_type": "code",
   "execution_count": 26,
   "metadata": {},
   "outputs": [],
   "source": [
    "with open(\"data/views/views.json\", 'r') as f4:\n",
    "    views = json.load(f4)"
   ]
  },
  {
   "cell_type": "code",
   "execution_count": 27,
   "metadata": {},
   "outputs": [],
   "source": [
    "Data = []\n",
    "for k in range(100):\n",
    "    P = Person()\n",
    "    P.set_ID()\n",
    "    P.set_age()\n",
    "    P.set_home_address(nepal)\n",
    "    P.set_foreign_address(world)\n",
    "    P.set_profession(prof) \n",
    "    P.set_date_out()\n",
    "    P.set_date_return()\n",
    "    P.set_fund2invest()\n",
    "    P.set_personal_view(views)\n",
    "    P.set_gender()\n",
    "\n",
    "    Data.append({\"ID\": P.ID,\\\n",
    "                 \"age\" : P.age,\\\n",
    "                 \"gender\" : P.gender,\\\n",
    "                 \"home_address\" : P.home_address,\\\n",
    "                 \"foreign_address\": P.foreign_address,\\\n",
    "                 \"profession\": P.profession,\\\n",
    "                 \"date_out\": P.date_out,\\\n",
    "                 \"date_return\":P.date_return,\\\n",
    "                 \"fund2invest\":P.fund2invest,\\\n",
    "                 \"personal_view\":P.personal_view})"
   ]
  },
  {
   "cell_type": "code",
   "execution_count": 28,
   "metadata": {
    "scrolled": false
   },
   "outputs": [
    {
     "data": {
      "text/plain": [
       "[{'ID': '87X74184VP',\n",
       "  'age': 42,\n",
       "  'gender': 'male',\n",
       "  'home_address': {'province': 'PN7',\n",
       "   'district': 'Bajura',\n",
       "   'MCP': 'Budhi Nanda MCP',\n",
       "   'ward': 'Ward 5'},\n",
       "  'foreign_address': {'country': 'Afghanistan',\n",
       "   'ID': 'AF',\n",
       "   'lat': '-19.015438',\n",
       "   'lon': '29.154857',\n",
       "   'city': 'ANDORRA LA VELLA'},\n",
       "  'profession': {'major': 'Computer and Mathematical Occupations',\n",
       "   'branch': 'Mathematical Science Occupations, All Other'},\n",
       "  'date_out': '2019.8.28',\n",
       "  'date_return': '2025.7.17',\n",
       "  'fund2invest': 6105,\n",
       "  'personal_view': ['Kathmandu Metropolitan City’s undying infatuation for the preface ‘smart’ has manifested in several glossy (and costly) infrastructural undertakings—from zebra crossings to dustbins and even toilets. But contrary to what ‘smart’ suggests, many of these initiatives seem devoid of any intelligent or sustainable solutions to the challenges they claim to address.Take, for example, the ‘smart dustbins’. From November last year, Kathmandu Metropolitan City, in conjunction with its private partner Krishna Suppliers, began scattering over 70 ‘smart dustbins’ throughout the city. According to city officials, each dustbin, which is fitted with advertising technology, costs around Rs 600,000. The city plans to install as many as 200 of them—which means the investment will amount to Rs 120,000,000. As of yet, the ‘smart dustbins’ seem to have made little difference—and in painful visual irony, some of them are even decorated with litter.']},\n",
       " {'ID': 'KF9JC738X7',\n",
       "  'age': 31,\n",
       "  'gender': 'male',\n",
       "  'home_address': {'province': 'PN1',\n",
       "   'district': 'Taplejung',\n",
       "   'MCP': 'Phakatanglung RM',\n",
       "   'ward': 'Ward 6'},\n",
       "  'foreign_address': {'country': 'Nepal',\n",
       "   'ID': 'NP',\n",
       "   'lat': '-19.015438',\n",
       "   'lon': '29.154857',\n",
       "   'city': 'Birgunj'},\n",
       "  'profession': {'major': 'Life, Physical, and Social Science Occupations',\n",
       "   'branch': 'Biological Scientists, All Other'},\n",
       "  'date_out': '2013.11.27',\n",
       "  'date_return': '2021.7.7',\n",
       "  'fund2invest': 962,\n",
       "  'personal_view': ['Granted, these initiatives are nothing new—they’ve been packaged in various forms and promises throughout the years. But they show that Kathmandu Metropolitan City is overlooking what should be at the heart of any ‘smart’ city initiative: empowered citizens and sustainable solutions. Kathmandu needs more than glossy, quick fixes that can be added to mayoral repertoires. The tendency to focus on the temporary is exemplified everywhere—from perpetually defunct broomer machines that blow dust in the air in their attempt to ‘clean Kathmandu’s roads’ to ‘smart dustbins’ surrounded by litter. Rather than pursuing the glitzy, KMC should prioritise on ensuring that basic necessities—like regular old dustbins and functioning sanitised toilets—serve their intended purposes and are available to all.']},\n",
       " {'ID': '8590HKYF9X',\n",
       "  'age': 35,\n",
       "  'gender': 'male',\n",
       "  'home_address': {'province': 'PN5',\n",
       "   'district': 'Palpa',\n",
       "   'MCP': 'Bagnaskali RM',\n",
       "   'ward': 'Ward 4'},\n",
       "  'foreign_address': {'country': 'San-Marino',\n",
       "   'ID': 'SM',\n",
       "   'lat': '-19.015438',\n",
       "   'lon': '29.154857',\n",
       "   'city': 'Kosice'},\n",
       "  'profession': {'major': 'Construction and Extraction Occupations',\n",
       "   'branch': 'Operating Engineers and Other Construction Equipment Operators'},\n",
       "  'date_out': '2014.3.23',\n",
       "  'date_return': '2023.10.21',\n",
       "  'fund2invest': 9383,\n",
       "  'personal_view': ['Kathmandu Metropolitan City’s undying infatuation for the preface ‘smart’ has manifested in several glossy (and costly) infrastructural undertakings—from zebra crossings to dustbins and even toilets. But contrary to what ‘smart’ suggests, many of these initiatives seem devoid of any intelligent or sustainable solutions to the challenges they claim to address.Take, for example, the ‘smart dustbins’. From November last year, Kathmandu Metropolitan City, in conjunction with its private partner Krishna Suppliers, began scattering over 70 ‘smart dustbins’ throughout the city. According to city officials, each dustbin, which is fitted with advertising technology, costs around Rs 600,000. The city plans to install as many as 200 of them—which means the investment will amount to Rs 120,000,000. As of yet, the ‘smart dustbins’ seem to have made little difference—and in painful visual irony, some of them are even decorated with litter.']},\n",
       " {'ID': '558VC330X3',\n",
       "  'age': 43,\n",
       "  'gender': 'female',\n",
       "  'home_address': {'province': 'PN1',\n",
       "   'district': 'Panchthar',\n",
       "   'MCP': 'Phidim MCP',\n",
       "   'ward': 'Ward 10'},\n",
       "  'foreign_address': {'country': 'Dominican-Republic',\n",
       "   'ID': 'DO',\n",
       "   'lat': '-19.015438',\n",
       "   'lon': '29.154857',\n",
       "   'city': 'ROSEAU'},\n",
       "  'profession': {'major': 'Sales and Related Occupations',\n",
       "   'branch': 'Insurance Sales Agents'},\n",
       "  'date_out': '2017.12.27',\n",
       "  'date_return': '2020.6.30',\n",
       "  'fund2invest': 6075,\n",
       "  'personal_view': ['When the Centre for Investigative Journalism-Nepal released its report revealing how over 50 Nepalis exploited secretive tax regimes and broke the country’s law by investing in different offshore companies, sections of the public eagerly anticipated a swift and stringent response from the government. And when the Prime Minister’s Office directed the Financial Information Unit under Nepal Rastra Bank to expedite ‘a probe into businesses and businesspeople’ last week, those steps appeared to be making ground—at least upon cursory examination. The promise of a ‘serious probe’ devoid of any comprehensive strategy is not only wholly inadequate but also frustratingly familiar.An almost parallel call was made three years ago, when the Panama Papers, leaked by the International Consortium of Investigative Journalists, revealed the names of more than 20 Nepalis parking their wealth in a number of tax haven countries and territories.']},\n",
       " {'ID': '65L3SQO9P1',\n",
       "  'age': 35,\n",
       "  'gender': 'female',\n",
       "  'home_address': {'province': 'PN3',\n",
       "   'district': 'Chitwan',\n",
       "   'MCP': 'Ichchhakamana RM',\n",
       "   'ward': 'Ward 2'},\n",
       "  'foreign_address': {'country': 'Turks-and-Caicos-Islands',\n",
       "   'ID': 'TC',\n",
       "   'lat': '-19.015438',\n",
       "   'lon': '29.154857',\n",
       "   'city': 'PARAMARIBO'},\n",
       "  'profession': {'major': 'Building and Grounds Cleaning and Maintenance Occupations',\n",
       "   'branch': 'Janitors and Cleaners, Except Maids and Housekeeping Cleaners'},\n",
       "  'date_out': '2011.10.16',\n",
       "  'date_return': '2023.4.21',\n",
       "  'fund2invest': 2008,\n",
       "  'personal_view': ['To add to the erroneous logic, Kathmandu Metropolitan City also recently issued a ‘crackdown on litter-bugs’—if officials find people throwing any form of waste on the city’s roads, they will be fined up to Rs.5,000. These fines overlook a glaring reality: dustbins are scarce. Rather than spending a gross amount of money on a few ‘smart dustbins’, why not invest money in ensuring that regular old dustbins are available at every street corner? Or why not redirect attention towards working with the central government to battle the city’s enduring waste management crisis? These steps would address much more than a 6-lakh-worth-of-a-dustbin ever could.']},\n",
       " {'ID': 'I0I7GJX25L',\n",
       "  'age': 48,\n",
       "  'gender': 'female',\n",
       "  'home_address': {'province': 'PN7',\n",
       "   'district': 'Bajhang',\n",
       "   'MCP': 'Jaya Prithivi MCP',\n",
       "   'ward': 'Ward 1'},\n",
       "  'foreign_address': {'country': 'Saint-Pierre-and-Miquelon',\n",
       "   'ID': 'PM',\n",
       "   'lat': '-19.015438',\n",
       "   'lon': '29.154857',\n",
       "   'city': 'Kielce'},\n",
       "  'profession': {'major': 'Arts, Design, Entertainment, Sports, and Media Occupations',\n",
       "   'branch': 'Lighting Technicians'},\n",
       "  'date_out': '2015.11.13',\n",
       "  'date_return': '2023.10.8',\n",
       "  'fund2invest': 4227,\n",
       "  'personal_view': ['On Saturday, the Traffic Police at Durbarmarg arrested four Pathao riders. Pathao and Tootle are ride-hailing companies that have been providing unique solutions to Kathmandu’s mobility problems. They connect passengers and drivers who use their personal non-commercial vehicles to provide transportation services as opposed to a regular taxi company that uses commercial vehicles. But according to Nepal’s Motor and Vehicles and Transport Management Act, 1993, private vehicles are not allowed to be used in transportation services. The Taxi Driver’s Association of Nepal—whose market has experienced a disruption since the arrival of services like Tootle and Pathao—filed a legal complaint against the ride-sharing services, highlighting that the act renders them illegal.']},\n",
       " {'ID': 'T465L500DQ',\n",
       "  'age': 50,\n",
       "  'gender': 'male',\n",
       "  'home_address': {'province': 'PN7',\n",
       "   'district': 'Kanchanpur',\n",
       "   'MCP': 'Beldandi RM',\n",
       "   'ward': 'Ward 5'},\n",
       "  'foreign_address': {'country': 'Malaysia',\n",
       "   'ID': 'MY',\n",
       "   'lat': '-19.015438',\n",
       "   'lon': '29.154857',\n",
       "   'city': 'Bukit Mertajam'},\n",
       "  'profession': {'major': 'Educational Instruction and Library Occupations',\n",
       "   'branch': 'Geography Teachers, Postsecondary'},\n",
       "  'date_out': '2012.1.21',\n",
       "  'date_return': '2025.3.13',\n",
       "  'fund2invest': 8935,\n",
       "  'personal_view': ['A day after the Panama Papers were exposed in April 2016, the Department of Money Laundering Investigation promised it would ‘begin a probe’ after calling a meeting of key stakeholders including the Financial Information Unit of Nepal Rastra Bank, the Department of Revenue Investigation and the Nepal Police. Following the meeting, the head of the Department of Money Laundering Investigation promised to adopt a ‘risk-based supervision system’ and claimed that the Financial Information Unit and the Central Investigation Bureau of the Nepal Police would ‘conduct an investigation’. As recent revelations have indicated, the investigations reaped minimal results in the last two years.']},\n",
       " {'ID': 'UB98EZKC8V',\n",
       "  'age': 26,\n",
       "  'gender': 'male',\n",
       "  'home_address': {'province': 'PN2',\n",
       "   'district': 'Saptari',\n",
       "   'MCP': 'Rupani RM',\n",
       "   'ward': 'Ward 4'},\n",
       "  'foreign_address': {'country': 'Belarus',\n",
       "   'ID': 'BY',\n",
       "   'lat': '-19.015438',\n",
       "   'lon': '29.154857',\n",
       "   'city': 'Baranovichi'},\n",
       "  'profession': {'major': 'Building and Grounds Cleaning and Maintenance Occupations',\n",
       "   'branch': 'Landscaping and Groundskeeping Workers'},\n",
       "  'date_out': '2010.6.7',\n",
       "  'date_return': '2025.4.23',\n",
       "  'fund2invest': 5065,\n",
       "  'personal_view': ['Granted, these initiatives are nothing new—they’ve been packaged in various forms and promises throughout the years. But they show that Kathmandu Metropolitan City is overlooking what should be at the heart of any ‘smart’ city initiative: empowered citizens and sustainable solutions. Kathmandu needs more than glossy, quick fixes that can be added to mayoral repertoires. The tendency to focus on the temporary is exemplified everywhere—from perpetually defunct broomer machines that blow dust in the air in their attempt to ‘clean Kathmandu’s roads’ to ‘smart dustbins’ surrounded by litter. Rather than pursuing the glitzy, KMC should prioritise on ensuring that basic necessities—like regular old dustbins and functioning sanitised toilets—serve their intended purposes and are available to all.']},\n",
       " {'ID': 'K188J88GS7',\n",
       "  'age': 43,\n",
       "  'gender': 'male',\n",
       "  'home_address': {'province': 'PN4',\n",
       "   'district': 'Gorkha',\n",
       "   'MCP': 'Chumanubri RM',\n",
       "   'ward': 'Ward 6'},\n",
       "  'foreign_address': {'country': 'Congo-[DRC]',\n",
       "   'ID': 'CD',\n",
       "   'lat': '-19.015438',\n",
       "   'lon': '29.154857',\n",
       "   'city': 'Saint John'},\n",
       "  'profession': {'major': 'Sales and Related Occupations',\n",
       "   'branch': 'Travel Agents'},\n",
       "  'date_out': '2018.3.26',\n",
       "  'date_return': '2021.9.7',\n",
       "  'fund2invest': 5344,\n",
       "  'personal_view': ['On Saturday, the Traffic Police at Durbarmarg arrested four Pathao riders. Pathao and Tootle are ride-hailing companies that have been providing unique solutions to Kathmandu’s mobility problems. They connect passengers and drivers who use their personal non-commercial vehicles to provide transportation services as opposed to a regular taxi company that uses commercial vehicles. But according to Nepal’s Motor and Vehicles and Transport Management Act, 1993, private vehicles are not allowed to be used in transportation services. The Taxi Driver’s Association of Nepal—whose market has experienced a disruption since the arrival of services like Tootle and Pathao—filed a legal complaint against the ride-sharing services, highlighting that the act renders them illegal.']},\n",
       " {'ID': '695Y9BCZK8',\n",
       "  'age': 31,\n",
       "  'gender': 'male',\n",
       "  'home_address': {'province': 'PN6',\n",
       "   'district': 'Salyan',\n",
       "   'MCP': 'Kapurkot RM',\n",
       "   'ward': 'Ward 4'},\n",
       "  'foreign_address': {'country': 'Chad',\n",
       "   'ID': 'TD',\n",
       "   'lat': '-19.015438',\n",
       "   'lon': '29.154857',\n",
       "   'city': \"N'DJAMENA\"},\n",
       "  'profession': {'major': 'Production Occupations',\n",
       "   'branch': 'Textile Winding, Twisting, and Drawing Out Machine Setters, Operators, and Tenders'},\n",
       "  'date_out': '2015.10.15',\n",
       "  'date_return': '2022.9.30',\n",
       "  'fund2invest': 2004,\n",
       "  'personal_view': ['In response to the pressure, Parliament devised several legislative measures to monitor money laundering—including the endorsement of the Anti-Money Laundering Act and the establishment of the Department of Money Laundering Investigation in 2011. After being removed from the FATF’s watch list in June 2011, the government seemingly forgot about its commitment to the cause. In the seven years of existence, the Department of Money Laundering Investigation has filed a meagre 40 money laundering cases at the Special Court, and most of them against petty or more low-profile violators. In the past three years, only 10 cases were filed, most of them related to minor charges. This points to a dismal conclusion: Issues related to money laundering only seem to matter when global monitoring organisations intervene']}]"
      ]
     },
     "execution_count": 28,
     "metadata": {},
     "output_type": "execute_result"
    }
   ],
   "source": [
    "Data[0:10]"
   ]
  },
  {
   "cell_type": "code",
   "execution_count": 29,
   "metadata": {},
   "outputs": [],
   "source": [
    "with open(\"data/database/sample.json\",\"w\")as fw:\n",
    "    json.dump(Data,fw)"
   ]
  },
  {
   "cell_type": "code",
   "execution_count": null,
   "metadata": {},
   "outputs": [],
   "source": []
  },
  {
   "cell_type": "code",
   "execution_count": null,
   "metadata": {},
   "outputs": [],
   "source": []
  },
  {
   "cell_type": "code",
   "execution_count": null,
   "metadata": {},
   "outputs": [],
   "source": []
  },
  {
   "cell_type": "code",
   "execution_count": null,
   "metadata": {},
   "outputs": [],
   "source": []
  },
  {
   "cell_type": "code",
   "execution_count": null,
   "metadata": {},
   "outputs": [],
   "source": []
  },
  {
   "cell_type": "code",
   "execution_count": null,
   "metadata": {},
   "outputs": [],
   "source": []
  },
  {
   "cell_type": "code",
   "execution_count": null,
   "metadata": {},
   "outputs": [],
   "source": []
  },
  {
   "cell_type": "code",
   "execution_count": null,
   "metadata": {},
   "outputs": [],
   "source": []
  }
 ],
 "metadata": {
  "kernelspec": {
   "display_name": "Python 3",
   "language": "python",
   "name": "python3"
  },
  "language_info": {
   "codemirror_mode": {
    "name": "ipython",
    "version": 3
   },
   "file_extension": ".py",
   "mimetype": "text/x-python",
   "name": "python",
   "nbconvert_exporter": "python",
   "pygments_lexer": "ipython3",
   "version": "3.6.4"
  }
 },
 "nbformat": 4,
 "nbformat_minor": 2
}
