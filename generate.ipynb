{
 "cells": [
  {
   "cell_type": "markdown",
   "metadata": {},
   "source": [
    "## A Random Person"
   ]
  },
  {
   "cell_type": "code",
   "execution_count": 1,
   "metadata": {},
   "outputs": [],
   "source": [
    "import json as json\n",
    "import random as random\n",
    "import pandas as pd\n",
    "import matplotlib.pyplot as plt\n",
    "import seaborn as sns\n",
    "sns.set()"
   ]
  },
  {
   "cell_type": "code",
   "execution_count": 2,
   "metadata": {},
   "outputs": [],
   "source": [
    "from generator.person import *"
   ]
  },
  {
   "cell_type": "code",
   "execution_count": 3,
   "metadata": {},
   "outputs": [],
   "source": [
    "with open(\"data/world/countries_name_id.json\", 'r') as f1:\n",
    "    world = json.load(f1)"
   ]
  },
  {
   "cell_type": "code",
   "execution_count": 4,
   "metadata": {},
   "outputs": [],
   "source": [
    "with open(\"data/nepal/NepalG.json\", 'r') as f2:\n",
    "    nepal = json.load(f2)"
   ]
  },
  {
   "cell_type": "code",
   "execution_count": 5,
   "metadata": {},
   "outputs": [],
   "source": [
    "with open(\"data/professions/profession.json\", 'r') as f3:\n",
    "    prof = json.load(f3)"
   ]
  },
  {
   "cell_type": "code",
   "execution_count": 6,
   "metadata": {},
   "outputs": [],
   "source": [
    "Data = []\n",
    "for k in range(100):\n",
    "    P = Person()\n",
    "    P.set_ID()\n",
    "    P.set_age()\n",
    "    P.set_home_address(nepal)\n",
    "    P.set_foreign_address(world)\n",
    "    P.set_profession(prof) \n",
    "    P.set_date_out()\n",
    "    P.set_date_return()\n",
    "    P.set_fund2invest()\n",
    "\n",
    "    Data.append({\"ID\": P.ID,\\\n",
    "                 \"age\" : P.age,\\\n",
    "                 \"home_address\" : P.home_address,\\\n",
    "                 \"foreign_address\": P.foreign_address,\\\n",
    "                 \"profession\": P.profession,\\\n",
    "                 \"date_out\": P.date_out,\\\n",
    "                 \"date_return\":P.date_return,\\\n",
    "                 \"fund2invest\":P.fund2invest})"
   ]
  },
  {
   "cell_type": "code",
   "execution_count": 7,
   "metadata": {
    "scrolled": false
   },
   "outputs": [
    {
     "data": {
      "text/plain": [
       "[{'ID': 'YKSWA05UM7',\n",
       "  'age': 40,\n",
       "  'home_address': {'province': 'PN2',\n",
       "   'district': 'Parsa',\n",
       "   'MCP': 'Subarnapur RM',\n",
       "   'ward': 'Ward 7'},\n",
       "  'foreign_address': 'Spain',\n",
       "  'profession': {'major': 'Legal Occupations',\n",
       "   'branch': '  Title Examiners, Abstractors, and Searchers'},\n",
       "  'date_out': '2018.8.30',\n",
       "  'date_return': '2022.12.24',\n",
       "  'fund2invest': 9790},\n",
       " {'ID': 'VNXO4CX513',\n",
       "  'age': 41,\n",
       "  'home_address': {'province': 'PN4',\n",
       "   'district': 'Manang',\n",
       "   'MCP': 'Chame RM',\n",
       "   'ward': 'Ward 5'},\n",
       "  'foreign_address': 'Latvia',\n",
       "  'profession': {'major': ' Construction and Extraction Occupations',\n",
       "   'branch': '  Tile and Stone Setters'},\n",
       "  'date_out': '2018.11.24',\n",
       "  'date_return': '2025.12.8',\n",
       "  'fund2invest': 4113},\n",
       " {'ID': 'S7I52ZR84K',\n",
       "  'age': 45,\n",
       "  'home_address': {'province': 'PN7',\n",
       "   'district': 'Baitadi',\n",
       "   'MCP': 'Dilasaini RM',\n",
       "   'ward': 'Ward 1'},\n",
       "  'foreign_address': 'Sierra Leone',\n",
       "  'profession': {'major': ' Healthcare Support Occupations',\n",
       "   'branch': '  Occupational Therapy Aides'},\n",
       "  'date_out': '2018.9.11',\n",
       "  'date_return': '2020.11.28',\n",
       "  'fund2invest': 6545},\n",
       " {'ID': '2MUIU39JO4',\n",
       "  'age': 49,\n",
       "  'home_address': {'province': 'PN2',\n",
       "   'district': 'Mahottari',\n",
       "   'MCP': 'Ekadara RM',\n",
       "   'ward': 'Ward 2'},\n",
       "  'foreign_address': 'Nepal',\n",
       "  'profession': {'major': ' Installation, Maintenance, and Repair Occupations',\n",
       "   'branch': '  Riggers'},\n",
       "  'date_out': '2017.4.20',\n",
       "  'date_return': '2019.4.6',\n",
       "  'fund2invest': 4837},\n",
       " {'ID': 'ZF1U8Y1U91',\n",
       "  'age': 28,\n",
       "  'home_address': {'province': 'PN2',\n",
       "   'district': 'Parsa',\n",
       "   'MCP': 'Subarnapur RM',\n",
       "   'ward': 'Ward 4'},\n",
       "  'foreign_address': 'Kazakhstan',\n",
       "  'profession': {'major': ' Educational Instruction and Library Occupations',\n",
       "   'branch': '  Elementary School Teachers, Except Special Education'},\n",
       "  'date_out': '2013.1.17',\n",
       "  'date_return': '2025.7.8',\n",
       "  'fund2invest': 8779},\n",
       " {'ID': '357SL9E514',\n",
       "  'age': 32,\n",
       "  'home_address': {'province': 'PN2',\n",
       "   'district': 'Bara',\n",
       "   'MCP': 'Devtaal RM',\n",
       "   'ward': 'Ward 4'},\n",
       "  'foreign_address': 'Gabon',\n",
       "  'profession': {'major': ' Construction and Extraction Occupations',\n",
       "   'branch': '  Structural Iron and Steel Workers'},\n",
       "  'date_out': '2018.8.14',\n",
       "  'date_return': '2025.3.5',\n",
       "  'fund2invest': 9149},\n",
       " {'ID': 'QEZ407U4K8',\n",
       "  'age': 27,\n",
       "  'home_address': {'province': 'PN4',\n",
       "   'district': 'Mustang',\n",
       "   'MCP': 'Gharpajhong RM',\n",
       "   'ward': 'Ward 4'},\n",
       "  'foreign_address': 'North Korea',\n",
       "  'profession': {'major': 'Business and Financial Operations Occupations',\n",
       "   'branch': '  Personal Financial Advisors\\r'},\n",
       "  'date_out': '2019.12.7',\n",
       "  'date_return': '2022.3.2',\n",
       "  'fund2invest': 511},\n",
       " {'ID': 'YSH6UK5X7K',\n",
       "  'age': 39,\n",
       "  'home_address': {'province': 'PN4',\n",
       "   'district': 'Baglung',\n",
       "   'MCP': 'Badi Gad',\n",
       "   'ward': 'Ward 10'},\n",
       "  'foreign_address': 'Nepal',\n",
       "  'profession': {'major': ' Management Occupations',\n",
       "   'branch': '  Personal Service Managers, All Other'},\n",
       "  'date_out': '2017.2.14',\n",
       "  'date_return': '2019.3.4',\n",
       "  'fund2invest': 7659},\n",
       " {'ID': 'IH63KR7XSY',\n",
       "  'age': 30,\n",
       "  'home_address': {'province': 'PN3',\n",
       "   'district': 'Sindhuli',\n",
       "   'MCP': 'Sunkoshi RM',\n",
       "   'ward': 'Ward 6'},\n",
       "  'foreign_address': 'Bangladesh',\n",
       "  'profession': {'major': ' Military Specific Occupations',\n",
       "   'branch': '  Armored Assault Vehicle Officers'},\n",
       "  'date_out': '2010.12.20',\n",
       "  'date_return': '2022.1.28',\n",
       "  'fund2invest': 744},\n",
       " {'ID': '1O3FNGE255',\n",
       "  'age': 41,\n",
       "  'home_address': {'province': 'PN4',\n",
       "   'district': 'Tanahun',\n",
       "   'MCP': 'Byas MCP',\n",
       "   'ward': 'Ward 9'},\n",
       "  'foreign_address': 'Equatorial Guinea',\n",
       "  'profession': {'major': ' Protective Service Occupations',\n",
       "   'branch': '  Forest Fire Inspectors and Prevention Specialists'},\n",
       "  'date_out': '2016.7.3',\n",
       "  'date_return': '2025.3.18',\n",
       "  'fund2invest': 7301}]"
      ]
     },
     "execution_count": 7,
     "metadata": {},
     "output_type": "execute_result"
    }
   ],
   "source": [
    "Data[0:10]"
   ]
  },
  {
   "cell_type": "code",
   "execution_count": 8,
   "metadata": {},
   "outputs": [],
   "source": [
    "with open(\"data/database/sample.json\",\"w\")as fw:\n",
    "    json.dump(Data,fw)"
   ]
  },
  {
   "cell_type": "code",
   "execution_count": null,
   "metadata": {},
   "outputs": [],
   "source": []
  },
  {
   "cell_type": "code",
   "execution_count": null,
   "metadata": {},
   "outputs": [],
   "source": []
  },
  {
   "cell_type": "code",
   "execution_count": null,
   "metadata": {},
   "outputs": [],
   "source": []
  },
  {
   "cell_type": "code",
   "execution_count": null,
   "metadata": {},
   "outputs": [],
   "source": []
  },
  {
   "cell_type": "code",
   "execution_count": null,
   "metadata": {},
   "outputs": [],
   "source": []
  },
  {
   "cell_type": "code",
   "execution_count": null,
   "metadata": {},
   "outputs": [],
   "source": []
  },
  {
   "cell_type": "code",
   "execution_count": null,
   "metadata": {},
   "outputs": [],
   "source": []
  },
  {
   "cell_type": "code",
   "execution_count": null,
   "metadata": {},
   "outputs": [],
   "source": []
  }
 ],
 "metadata": {
  "kernelspec": {
   "display_name": "Python 3",
   "language": "python",
   "name": "python3"
  },
  "language_info": {
   "codemirror_mode": {
    "name": "ipython",
    "version": 3
   },
   "file_extension": ".py",
   "mimetype": "text/x-python",
   "name": "python",
   "nbconvert_exporter": "python",
   "pygments_lexer": "ipython3",
   "version": "3.7.0"
  }
 },
 "nbformat": 4,
 "nbformat_minor": 2
}
