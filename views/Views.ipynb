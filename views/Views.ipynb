{
 "cells": [
  {
   "cell_type": "markdown",
   "metadata": {},
   "source": [
    "### Views"
   ]
  },
  {
   "cell_type": "code",
   "execution_count": 3,
   "metadata": {},
   "outputs": [],
   "source": [
    "L =[[\"When the Centre for Investigative Journalism-Nepal released its report revealing how over 50 Nepalis exploited secretive tax regimes and broke the country’s law by investing in different offshore companies, sections of the public eagerly anticipated a swift and stringent response from the government. And when the Prime Minister’s Office directed the Financial Information Unit under Nepal Rastra Bank to expedite ‘a probe into businesses and businesspeople’ last week, those steps appeared to be making ground—at least upon cursory examination. The promise of a ‘serious probe’ devoid of any comprehensive strategy is not only wholly inadequate but also frustratingly familiar.An almost parallel call was made three years ago, when the Panama Papers, leaked by the International Consortium of Investigative Journalists, revealed the names of more than 20 Nepalis parking their wealth in a number of tax haven countries and territories.\"],\\\n",
    " [\"A day after the Panama Papers were exposed in April 2016, the Department of Money Laundering Investigation promised it would ‘begin a probe’ after calling a meeting of key stakeholders including the Financial Information Unit of Nepal Rastra Bank, the Department of Revenue Investigation and the Nepal Police. Following the meeting, the head of the Department of Money Laundering Investigation promised to adopt a ‘risk-based supervision system’ and claimed that the Financial Information Unit and the Central Investigation Bureau of the Nepal Police would ‘conduct an investigation’. As recent revelations have indicated, the investigations reaped minimal results in the last two years.\"],\\\n",
    "[\"In this discouraging context, the call for a probe is far from enough. Until the probe is supplemented with a clear and targeted strategy, the call is meaningless and can not be deemed an adequate response to the Centre for Investigative Journalism-Nepal’s report. One would also think that a necessary prerequisite for a probe would be a well-monitored committee to issue it. At the risk of adding yet another example to its (now growing) list of hollow and foundationless promises, the officials concerned must demonstrate their claimed commitment through tangible results.As Nepal’s third mutual evaluation report by the Financial Action Task Force (FATF), a global anti-money laundering watchdog, is nearing its 2020 deadline, time is of the essence—especially as the country faces potential blacklisting. In 2010, when FATF included Nepal in its list of ‘nations that failed to comply with the action plan related to anti-money laundering and combating financing of terrorists’, the government leapt into action, making tangible strides in improving anti-money laundering strategies.\"],\\\n",
    "[\"In response to the pressure, Parliament devised several legislative measures to monitor money laundering—including the endorsement of the Anti-Money Laundering Act and the establishment of the Department of Money Laundering Investigation in 2011. After being removed from the FATF’s watch list in June 2011, the government seemingly forgot about its commitment to the cause. In the seven years of existence, the Department of Money Laundering Investigation has filed a meagre 40 money laundering cases at the Special Court, and most of them against petty or more low-profile violators. In the past three years, only 10 cases were filed, most of them related to minor charges. This points to a dismal conclusion: Issues related to money laundering only seem to matter when global monitoring organisations intervene\"],\n",
    " [\"Kathmandu Metropolitan City’s undying infatuation for the preface ‘smart’ has manifested in several glossy (and costly) infrastructural undertakings—from zebra crossings to dustbins and even toilets. But contrary to what ‘smart’ suggests, many of these initiatives seem devoid of any intelligent or sustainable solutions to the challenges they claim to address.Take, for example, the ‘smart dustbins’. From November last year, Kathmandu Metropolitan City, in conjunction with its private partner Krishna Suppliers, began scattering over 70 ‘smart dustbins’ throughout the city. According to city officials, each dustbin, which is fitted with advertising technology, costs around Rs 600,000. The city plans to install as many as 200 of them—which means the investment will amount to Rs 120,000,000. As of yet, the ‘smart dustbins’ seem to have made little difference—and in painful visual irony, some of them are even decorated with litter.\"],\\\n",
    "[\"To add to the erroneous logic, Kathmandu Metropolitan City also recently issued a ‘crackdown on litter-bugs’—if officials find people throwing any form of waste on the city’s roads, they will be fined up to Rs.5,000. These fines overlook a glaring reality: dustbins are scarce. Rather than spending a gross amount of money on a few ‘smart dustbins’, why not invest money in ensuring that regular old dustbins are available at every street corner? Or why not redirect attention towards working with the central government to battle the city’s enduring waste management crisis? These steps would address much more than a 6-lakh-worth-of-a-dustbin ever could.\"],\\\n",
    "[\"Granted, these initiatives are nothing new—they’ve been packaged in various forms and promises throughout the years. But they show that Kathmandu Metropolitan City is overlooking what should be at the heart of any ‘smart’ city initiative: empowered citizens and sustainable solutions. Kathmandu needs more than glossy, quick fixes that can be added to mayoral repertoires. The tendency to focus on the temporary is exemplified everywhere—from perpetually defunct broomer machines that blow dust in the air in their attempt to ‘clean Kathmandu’s roads’ to ‘smart dustbins’ surrounded by litter. Rather than pursuing the glitzy, KMC should prioritise on ensuring that basic necessities—like regular old dustbins and functioning sanitised toilets—serve their intended purposes and are available to all.\"],\\\n",
    "[\"On Saturday, the Traffic Police at Durbarmarg arrested four Pathao riders. Pathao and Tootle are ride-hailing companies that have been providing unique solutions to Kathmandu’s mobility problems. They connect passengers and drivers who use their personal non-commercial vehicles to provide transportation services as opposed to a regular taxi company that uses commercial vehicles. But according to Nepal’s Motor and Vehicles and Transport Management Act, 1993, private vehicles are not allowed to be used in transportation services. The Taxi Driver’s Association of Nepal—whose market has experienced a disruption since the arrival of services like Tootle and Pathao—filed a legal complaint against the ride-sharing services, highlighting that the act renders them illegal.\"],\\\n",
    "[\"Yet, having said that, the companies cannot operate without taking responsibility for their actions. The terms and services page of both Tootle and Pathao mention that they are only ‘a technology company that does not provide or engage in transportation services’. It further mentions that ‘the company is not a transportation provider’. These statements make it easier for them to shirk responsibility. Also, it does not make them liable for the insurance of the rider or the passenger in case of an accident. As a service provider, ensuring the safety of customers should be any company’s top priority—especially in the business of transportation.\"],\\\n",
    "[\"The move to shut down these services outright without much deliberation between stakeholder groups is a disservice to commuters and entrepreneurs. Tootle and Pathao are popular services that have made the lives of capital residents much easier by providing a middle-ground option for commuters: more comfortable than public transportation and more affordable than taxis. It is much easier to get in touch with a rider using an app on their phone, hop in, and get to the destination relatively faster and at a much cheaper rate. At the same time, these ride-hailing services are providing employment opportunities to many in the city.\"],\\\n",
    "[\"Around 30 years, over a dozen missed deadlines, and two terminated contracts since it was first announced, the Melamchi Water Supply Project hangs in limbo, once again. Following months of conflict with the Italian contractor Cooperativa Muratori e Cementisti di Ravenna (CMC), the government has now formally issued a letter of termination, causing further (and seemingly perpetual) delays to the national pride project. Granted, delays to the project stopped surprising people 20 years and over a dozen-missed deadlines ago, but the current fiasco warrants introspection, especially as officials claim that the project is only 5 percent shy of completion.\"],\\\n",
    " [\"While all parties involved in the construction process have contributed to the current fiasco, one lesson is especially poignant as stakeholders take the next necessary steps to identify a new contractor: more thoughtful deliberation must factor into procurement decisions. A number of factors—including corruption, mismanagement, deviation from contract promises, sluggish cash flow, and a circular bout of finger pointing—has played into the current Melamchi saga. But tussles between contractors and government officials, often manifesting in contract terminations, have featured heavily in these delays.\"]]\n",
    "\n",
    "\n",
    "\n"
   ]
  },
  {
   "cell_type": "code",
   "execution_count": 4,
   "metadata": {},
   "outputs": [],
   "source": [
    "import json as json\n",
    "with open('views.json', 'w') as f:\n",
    "    json.dump(L,f)"
   ]
  },
  {
   "cell_type": "code",
   "execution_count": null,
   "metadata": {},
   "outputs": [],
   "source": []
  }
 ],
 "metadata": {
  "kernelspec": {
   "display_name": "Python 3",
   "language": "python",
   "name": "python3"
  },
  "language_info": {
   "codemirror_mode": {
    "name": "ipython",
    "version": 3
   },
   "file_extension": ".py",
   "mimetype": "text/x-python",
   "name": "python",
   "nbconvert_exporter": "python",
   "pygments_lexer": "ipython3",
   "version": "3.6.4"
  }
 },
 "nbformat": 4,
 "nbformat_minor": 2
}
