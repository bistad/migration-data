{
 "cells": [
  {
   "cell_type": "markdown",
   "metadata": {},
   "source": [
    "### Home Address Generator"
   ]
  },
  {
   "cell_type": "code",
   "execution_count": 5,
   "metadata": {},
   "outputs": [],
   "source": [
    "import json as json\n",
    "import random as random\n",
    "import pandas as pd\n",
    "import matplotlib.pyplot as plt\n",
    "import seaborn as sns\n",
    "sns.set()"
   ]
  },
  {
   "cell_type": "markdown",
   "metadata": {},
   "source": [
    "#### Dictionary including all Provinces and Districts (Manual Aproach)"
   ]
  },
  {
   "cell_type": "code",
   "execution_count": 6,
   "metadata": {},
   "outputs": [],
   "source": [
    "with open(\"data/nepal/NepalG.json\",'r') as f:\n",
    "    Nepal = json.load(f)"
   ]
  },
  {
   "cell_type": "markdown",
   "metadata": {},
   "source": [
    "### Home Address Tree"
   ]
  },
  {
   "cell_type": "markdown",
   "metadata": {},
   "source": [
    "#### Ageneric Node"
   ]
  },
  {
   "cell_type": "code",
   "execution_count": 100,
   "metadata": {},
   "outputs": [],
   "source": [
    "class Node(object):\n",
    "    \"Generic tree node.\"\n",
    "    def __init__(self,name,ID):\n",
    "        self.ID = ID\n",
    "        self.name = name\n",
    "        self.child = {}            "
   ]
  },
  {
   "cell_type": "markdown",
   "metadata": {},
   "source": [
    "#### Create a Tree object"
   ]
  },
  {
   "cell_type": "code",
   "execution_count": 101,
   "metadata": {},
   "outputs": [],
   "source": [
    "class Home(object):\n",
    "    \n",
    "    def __init__(self,country,ID):\n",
    "        self.root = Node(country,ID)\n",
    "        \n",
    "    def set_province(self,province,PID):\n",
    "        self.root.child.update({province:Node(province,PID)})\n",
    "            \n",
    "    def set_district(self,province,district,DID):\n",
    "        self.root.child[province].child.update({district:Node(district,DID)})\n",
    "        \n",
    "    def set_VRD(self,province,district,VRD,VID):\n",
    "        self.root.child[province].child[district].child.update({VRD:Node(VRD,VID)})\n",
    "        \n",
    "    def set_ward(self,province,district,VRD,ward,WID):\n",
    "         self.root.child[province].child[district].child[VRD].child.update({ward:Node(ward,WID)})\n",
    "            \n",
    "    "
   ]
  },
  {
   "cell_type": "markdown",
   "metadata": {},
   "source": [
    "#### Implementation of Tree"
   ]
  },
  {
   "cell_type": "code",
   "execution_count": 106,
   "metadata": {},
   "outputs": [],
   "source": [
    "H = Home(\"Nepal\",\"N\")\n",
    "for i,province in enumerate(list(Nepal.keys())):\n",
    "        PID = H.root.ID + 'P' + str(i+1)\n",
    "        H.set_province(province,PID)\n",
    "        for j,district in enumerate(Nepal[province]):\n",
    "            DID = PID + 'D' + str(j+1)\n",
    "            H.set_district(province, district,DID)"
   ]
  },
  {
   "cell_type": "code",
   "execution_count": 110,
   "metadata": {},
   "outputs": [
    {
     "data": {
      "text/plain": [
       "dict_keys(['PN1', 'PN2', 'PN3', 'PN4', 'PN5', 'PN6', 'PN7'])"
      ]
     },
     "execution_count": 110,
     "metadata": {},
     "output_type": "execute_result"
    }
   ],
   "source": [
    "H.root.child.keys()     "
   ]
  },
  {
   "cell_type": "code",
   "execution_count": 111,
   "metadata": {},
   "outputs": [
    {
     "data": {
      "text/plain": [
       "dict_keys(['Bhojpur', 'Dhankuta', 'Ilam', 'Jhapa', 'Khotang', 'Morang', 'Okhaldhunga', 'Panchthar', 'Sankhauasabha', 'Solukhumbu', 'Sunsari', 'Taplejung', 'Terhathum', 'Udayapur'])"
      ]
     },
     "execution_count": 111,
     "metadata": {},
     "output_type": "execute_result"
    }
   ],
   "source": [
    "H.root.child['PN1'].child.keys()"
   ]
  },
  {
   "cell_type": "code",
   "execution_count": 114,
   "metadata": {},
   "outputs": [
    {
     "data": {
      "text/plain": [
       "'NP1D1'"
      ]
     },
     "execution_count": 114,
     "metadata": {},
     "output_type": "execute_result"
    }
   ],
   "source": [
    "H.root.child['PN1'].child['Bhojpur'].ID"
   ]
  },
  {
   "cell_type": "code",
   "execution_count": 113,
   "metadata": {},
   "outputs": [
    {
     "name": "stdout",
     "output_type": "stream",
     "text": [
      "PN1 | ['Bhojpur', 'Dhankuta', 'Ilam', 'Jhapa', 'Khotang', 'Morang', 'Okhaldhunga', 'Panchthar', 'Sankhauasabha', 'Solukhumbu', 'Sunsari', 'Taplejung', 'Terhathum', 'Udayapur']\n",
      "PN2 | ['Saptari', 'Parsa', 'Bara', 'Siraha', 'Dhanusha', 'Rautahat', 'Mahottari']\n",
      "PN3 | ['Bhaktapur', 'Chitwan', 'Dhading', 'Dolakha', 'Kathmandu', 'Kabrepalanchok', 'Lalitpur', 'Makwanpur', 'Nukuwot', 'Ramechaap', 'Rasuwa', 'Sindhuli', 'Sindupalchok']\n",
      "PN4 | ['Baglung', 'Gorkha', 'Kaski', 'Lamjung', 'Manang', 'Mustang', 'Myagdi', 'Nawalpur', 'Parbat', 'Syangja', 'Tanahun']\n",
      "PN5 | ['Arghakhanchi', 'Banke', 'Bardiya', 'Dang', 'Eastern_Rukum', 'Gulmi', 'Kapilvastu', 'Parasi', 'Palpa', 'Pyuthan', 'Rolpa', 'Rupandehi']\n",
      "PN6 | ['Dailekh', 'Dolpa', 'Humla', 'Jajarkot', 'Jumla', 'Kalikot', 'Mugu', 'Salyan', 'Surkhet', 'Western_Rukum']\n",
      "PN7 | ['Achham', 'Baitadi', 'Bajhang', 'Bajura', 'Dadeldhura', 'Darchula', 'Doti', 'Kailali', 'Kanchanpur']\n"
     ]
    }
   ],
   "source": [
    "for province in H.root.child.keys():\n",
    "    print(province, \"|\" , list(H.root.child[province].child.keys()))"
   ]
  },
  {
   "cell_type": "markdown",
   "metadata": {},
   "source": [
    "---------"
   ]
  },
  {
   "cell_type": "markdown",
   "metadata": {},
   "source": [
    "[Sample Tree](https://caseolap.github.io/meshtrees/trees/M01.html)"
   ]
  },
  {
   "cell_type": "markdown",
   "metadata": {},
   "source": [
    "### Assignment"
   ]
  },
  {
   "cell_type": "markdown",
   "metadata": {},
   "source": [
    "1. Create a Dictionary including all Municipality or Rural village development\n",
    "2. Create 20 random addresses\n",
    "3. Create a Address Tree of whole Nepal as a single Tree"
   ]
  },
  {
   "cell_type": "code",
   "execution_count": null,
   "metadata": {},
   "outputs": [],
   "source": []
  },
  {
   "cell_type": "code",
   "execution_count": null,
   "metadata": {},
   "outputs": [],
   "source": []
  },
  {
   "cell_type": "code",
   "execution_count": null,
   "metadata": {},
   "outputs": [],
   "source": []
  },
  {
   "cell_type": "code",
   "execution_count": null,
   "metadata": {},
   "outputs": [],
   "source": []
  },
  {
   "cell_type": "code",
   "execution_count": null,
   "metadata": {},
   "outputs": [],
   "source": []
  },
  {
   "cell_type": "code",
   "execution_count": null,
   "metadata": {},
   "outputs": [],
   "source": []
  }
 ],
 "metadata": {
  "kernelspec": {
   "display_name": "Python 3",
   "language": "python",
   "name": "python3"
  },
  "language_info": {
   "codemirror_mode": {
    "name": "ipython",
    "version": 3
   },
   "file_extension": ".py",
   "mimetype": "text/x-python",
   "name": "python",
   "nbconvert_exporter": "python",
   "pygments_lexer": "ipython3",
   "version": "3.7.0"
  }
 },
 "nbformat": 4,
 "nbformat_minor": 2
}
